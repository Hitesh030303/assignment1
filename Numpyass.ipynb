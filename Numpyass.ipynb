{
 "cells": [
  {
   "cell_type": "markdown",
   "id": "c2df8d95-ae5d-481b-b5a3-12ac9d785aa7",
   "metadata": {},
   "source": [
    "#  QUESTION 1\n",
    "#  YES THERE IS DIFFERENCE BETWEEN THE DATATYPES OF THESE TWO VARIABLES\n",
    "#  list_ HAS DATATYPE AS A LIST AND FPR ARRAY_LIST HAS A DATATYPE OF NUMPY ARRAY"
   ]
  },
  {
   "cell_type": "code",
   "execution_count": 1,
   "id": "c43f5f67-ffcf-4766-bade-b88062c7326c",
   "metadata": {},
   "outputs": [],
   "source": [
    "import numpy as np\n",
    "list_ = ['1','2','3','4','5']\n",
    "array_list = np.array(object = list_)"
   ]
  },
  {
   "cell_type": "code",
   "execution_count": 2,
   "id": "18ef62cf-fb65-4255-b78a-5d2827f602b2",
   "metadata": {},
   "outputs": [
    {
     "data": {
      "text/plain": [
       "list"
      ]
     },
     "execution_count": 2,
     "metadata": {},
     "output_type": "execute_result"
    }
   ],
   "source": [
    "type(list_)"
   ]
  },
  {
   "cell_type": "code",
   "execution_count": 3,
   "id": "b0ab0870-e34c-49fb-a605-4dd25ae1f21b",
   "metadata": {},
   "outputs": [
    {
     "data": {
      "text/plain": [
       "numpy.ndarray"
      ]
     },
     "execution_count": 3,
     "metadata": {},
     "output_type": "execute_result"
    }
   ],
   "source": [
    "type(array_list)"
   ]
  },
  {
   "cell_type": "markdown",
   "id": "73410831-93f2-4dcb-b0e2-8ce2e7aca4ac",
   "metadata": {},
   "source": [
    "#  QUESTION 2\n",
    "# Write a code to print the data type of each and every element of both the variables list_ and\n",
    "# arra_list.\n"
   ]
  },
  {
   "cell_type": "code",
   "execution_count": 4,
   "id": "8f4bde6b-89a2-4f4f-94b0-b297d4bda1ba",
   "metadata": {},
   "outputs": [
    {
     "data": {
      "text/plain": [
       "str"
      ]
     },
     "execution_count": 4,
     "metadata": {},
     "output_type": "execute_result"
    }
   ],
   "source": [
    "type(list_[0])"
   ]
  },
  {
   "cell_type": "code",
   "execution_count": 5,
   "id": "f0e12fed-e4a9-433f-9448-10bdfd33b242",
   "metadata": {},
   "outputs": [
    {
     "data": {
      "text/plain": [
       "dtype('<U1')"
      ]
     },
     "execution_count": 5,
     "metadata": {},
     "output_type": "execute_result"
    }
   ],
   "source": [
    "array_list.dtype"
   ]
  },
  {
   "cell_type": "markdown",
   "id": "682d78c7-6381-48e5-9bc7-317259d1c8c1",
   "metadata": {},
   "source": [
    "Q3. Considering the following changes in the variable, array_list:\n",
    "array_list = np.array(object = list_, dtype = int)\n",
    "Will there be any difference in the data type of the elements present in both the variables, list_ and\n",
    "arra_list? If so then print the data types of each and every element present in both the variables, list_\n",
    "and arra_list."
   ]
  },
  {
   "cell_type": "code",
   "execution_count": 6,
   "id": "17000834-fdc3-420d-83b7-06bcc2c8fd48",
   "metadata": {},
   "outputs": [],
   "source": [
    "array_list = np.array(object = list_, dtype = int)"
   ]
  },
  {
   "cell_type": "code",
   "execution_count": 7,
   "id": "ce92c9d3-7820-46db-9bdd-67994a737f1a",
   "metadata": {},
   "outputs": [],
   "source": [
    "#  after this code we have the datatype as 'int64' and before it was '<U1'"
   ]
  },
  {
   "cell_type": "code",
   "execution_count": 8,
   "id": "faa69f72-c60e-4243-b12a-a7a00256ddf4",
   "metadata": {},
   "outputs": [
    {
     "data": {
      "text/plain": [
       "dtype('int64')"
      ]
     },
     "execution_count": 8,
     "metadata": {},
     "output_type": "execute_result"
    }
   ],
   "source": [
    "array_list.dtype"
   ]
  },
  {
   "cell_type": "markdown",
   "id": "1c29d5fe-6620-4f8e-ae33-2810e70bfc6e",
   "metadata": {},
   "source": [
    "Consider the below code to answer further questions:\n",
    "import numpy as np\n",
    "num_list = [ [ 1 , 2 , 3 ] , [ 4 , 5 , 6 ] ]\n",
    "num_array = np.array(object = num_list)"
   ]
  },
  {
   "cell_type": "markdown",
   "id": "9c780c68-48c2-46b8-bda4-d347eaadab2f",
   "metadata": {},
   "source": [
    "Q4. Write a code to find the following characteristics of variable, num_array:\n",
    "(i) shape\n",
    "(ii) size"
   ]
  },
  {
   "cell_type": "code",
   "execution_count": 9,
   "id": "2723c246-70b8-4029-ae97-982665ea1fe2",
   "metadata": {},
   "outputs": [],
   "source": [
    "import numpy as np\n",
    "num_list = [ [ 1 , 2 , 3 ] , [ 4 , 5 , 6 ] ]\n",
    "num_array = np.array(object = num_list)"
   ]
  },
  {
   "cell_type": "code",
   "execution_count": 12,
   "id": "d65cf486-912f-460b-8e54-8608a93f3245",
   "metadata": {},
   "outputs": [
    {
     "data": {
      "text/plain": [
       "(2, 3)"
      ]
     },
     "execution_count": 12,
     "metadata": {},
     "output_type": "execute_result"
    }
   ],
   "source": [
    "num_array.shape"
   ]
  },
  {
   "cell_type": "code",
   "execution_count": 13,
   "id": "d68f4f84-a6a0-490b-9ed8-0051880b1062",
   "metadata": {},
   "outputs": [
    {
     "data": {
      "text/plain": [
       "6"
      ]
     },
     "execution_count": 13,
     "metadata": {},
     "output_type": "execute_result"
    }
   ],
   "source": [
    "num_array.size"
   ]
  },
  {
   "cell_type": "markdown",
   "id": "af886c56-e97e-483c-9810-a6645d3e2d5e",
   "metadata": {},
   "source": [
    "Q5. Write a code to create numpy array of 3*3 matrix containing zeros only, using a numpy array\n",
    "creation function."
   ]
  },
  {
   "cell_type": "code",
   "execution_count": 19,
   "id": "8eab0c6c-19d0-46a8-aff9-8468ba93152c",
   "metadata": {},
   "outputs": [],
   "source": [
    "matrix = np.zeros((3,3))"
   ]
  },
  {
   "cell_type": "code",
   "execution_count": 20,
   "id": "7b590a08-df09-4799-802e-db4c9622ec7f",
   "metadata": {},
   "outputs": [
    {
     "data": {
      "text/plain": [
       "array([[0., 0., 0.],\n",
       "       [0., 0., 0.],\n",
       "       [0., 0., 0.]])"
      ]
     },
     "execution_count": 20,
     "metadata": {},
     "output_type": "execute_result"
    }
   ],
   "source": [
    "matrix"
   ]
  },
  {
   "cell_type": "markdown",
   "id": "28e21378-a99f-4ed6-a154-e2a9525e5623",
   "metadata": {},
   "source": [
    "Q6. Create an identity matrix of shape (5,5) using numpy functions?"
   ]
  },
  {
   "cell_type": "code",
   "execution_count": 21,
   "id": "0b49c70e-b444-4ac5-8ed7-d4618044e90a",
   "metadata": {},
   "outputs": [],
   "source": [
    "imatrix = np.eye(3)"
   ]
  },
  {
   "cell_type": "code",
   "execution_count": 22,
   "id": "974f1756-7bb6-48e8-b492-cc13dd276b81",
   "metadata": {},
   "outputs": [
    {
     "data": {
      "text/plain": [
       "array([[1., 0., 0.],\n",
       "       [0., 1., 0.],\n",
       "       [0., 0., 1.]])"
      ]
     },
     "execution_count": 22,
     "metadata": {},
     "output_type": "execute_result"
    }
   ],
   "source": [
    "imatrix"
   ]
  },
  {
   "cell_type": "code",
   "execution_count": null,
   "id": "097a037f-e646-42d5-a0e8-24bab778d6d2",
   "metadata": {},
   "outputs": [],
   "source": []
  }
 ],
 "metadata": {
  "kernelspec": {
   "display_name": "Python 3 (ipykernel)",
   "language": "python",
   "name": "python3"
  },
  "language_info": {
   "codemirror_mode": {
    "name": "ipython",
    "version": 3
   },
   "file_extension": ".py",
   "mimetype": "text/x-python",
   "name": "python",
   "nbconvert_exporter": "python",
   "pygments_lexer": "ipython3",
   "version": "3.10.8"
  }
 },
 "nbformat": 4,
 "nbformat_minor": 5
}
