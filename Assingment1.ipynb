{
 "cells": [
  {
   "cell_type": "markdown",
   "id": "638f9f60-8211-497a-bcc2-321172ce8dd9",
   "metadata": {},
   "source": [
    "# Q1. Explain with an example each when to use a for loop and a while loop."
   ]
  },
  {
   "cell_type": "code",
   "execution_count": 2,
   "id": "cb8e9048-2214-4585-b71d-7ba0bd5cd6ec",
   "metadata": {},
   "outputs": [],
   "source": [
    "# FOR LOOP : we generally use for loop when we know the no. of iterations.\n",
    "      # For example , "
   ]
  },
  {
   "cell_type": "code",
   "execution_count": 3,
   "id": "4bce3671-be37-4d6c-ac79-025edf038b57",
   "metadata": {},
   "outputs": [
    {
     "name": "stdout",
     "output_type": "stream",
     "text": [
      "0\n",
      "1\n",
      "2\n",
      "3\n",
      "4\n",
      "5\n",
      "6\n",
      "7\n",
      "8\n",
      "9\n"
     ]
    }
   ],
   "source": [
    "for i in range(10):\n",
    "    print(i)"
   ]
  },
  {
   "cell_type": "code",
   "execution_count": 4,
   "id": "8d47764a-540f-414e-8396-d226e48fbab0",
   "metadata": {},
   "outputs": [],
   "source": [
    "# WHILE LOOP: we generally use while loop when we didn't know the no. of iterations\n",
    "            # for example, "
   ]
  },
  {
   "cell_type": "code",
   "execution_count": 5,
   "id": "08205b8d-1a61-4df4-9a2f-a2429bb266b3",
   "metadata": {},
   "outputs": [
    {
     "name": "stdout",
     "output_type": "stream",
     "text": [
      "0\n",
      "1\n",
      "2\n",
      "3\n",
      "4\n",
      "5\n",
      "6\n",
      "7\n",
      "8\n",
      "9\n",
      "10\n"
     ]
    }
   ],
   "source": [
    "n = 0 \n",
    "while n <= 10:\n",
    "    print(n)\n",
    "    n = n+1 "
   ]
  },
  {
   "cell_type": "markdown",
   "id": "61396c7b-0117-45d5-a86b-f278c3370b85",
   "metadata": {},
   "source": [
    "# Q2. Write a python program to print the sum and product of the first 10 natural numbers using for and while loop."
   ]
  },
  {
   "cell_type": "code",
   "execution_count": 19,
   "id": "079fddbb-c543-46d5-8585-b7ef9c8ba20f",
   "metadata": {},
   "outputs": [
    {
     "name": "stdout",
     "output_type": "stream",
     "text": [
      "The sum of first 10 natural numbers is=  55\n",
      "The product of first 10 natural numbers is=  3628800\n"
     ]
    }
   ],
   "source": [
    "n = 1\n",
    "sum = 0\n",
    "product = 1\n",
    "while n <= 10:\n",
    "    sum = sum + n\n",
    "    product = product * n\n",
    "    n = n +1\n",
    "print(\"The sum of first 10 natural numbers is= \", sum)\n",
    "print(\"The product of first 10 natural numbers is= \", product)"
   ]
  },
  {
   "cell_type": "code",
   "execution_count": 20,
   "id": "eb1f51cc-be95-4e8b-8854-47d3c6ffb23a",
   "metadata": {},
   "outputs": [
    {
     "name": "stdout",
     "output_type": "stream",
     "text": [
      "The sum of first 10 natural numbers is=  55\n",
      "The product of first 10 natural numbers is=  3628800\n"
     ]
    }
   ],
   "source": [
    "n = 1\n",
    "sum = 0\n",
    "product = 1\n",
    "for n in range(1,11):\n",
    "    sum = sum + n\n",
    "    product = product * n\n",
    "    n = n +1\n",
    "print(\"The sum of first 10 natural numbers is= \",sum)\n",
    "print(\"The product of first 10 natural numbers is= \",product)"
   ]
  },
  {
   "cell_type": "markdown",
   "id": "494add52-8edd-4b6a-89de-2847ec98b079",
   "metadata": {},
   "source": [
    "# Q3. Create a python program to compute the electricity bill for a household. The per-unit charges in rupees are as follows: For the first 100 units, the user will be charged Rs. 4.5 per unit, for the next 100 units, the user will be charged Rs. 6 per unit, and for the next 100 units, the user will be charged Rs. 10 per unit, After 300 units and above the user will be charged Rs. 20 per unit. You are required to take the units of electricity consumed in a month from the user as input. Your program must pass this test case: when the unit of electricity consumed by the user in a month is 310, the total electricity bill should be 2250."
   ]
  },
  {
   "cell_type": "code",
   "execution_count": 29,
   "id": "6a827a88-b65d-46b2-8552-f599658538d9",
   "metadata": {},
   "outputs": [
    {
     "name": "stdin",
     "output_type": "stream",
     "text": [
      "Enter the number of units of electricity =  310\n"
     ]
    },
    {
     "name": "stdout",
     "output_type": "stream",
     "text": [
      "Your electricity bill is : 2250\n"
     ]
    }
   ],
   "source": [
    "n = int(input(\"Enter the number of units of electricity = \"))\n",
    "if n <= 100:\n",
    "    print(\"Your electricity bill is :\", 4.5*n)\n",
    "elif n > 100 and n <=200:\n",
    "    print(\"Your electricity bill is :\", (450+(6*n-100)))\n",
    "elif n > 200 and n <=300:\n",
    "    print(\"Your electricity bill is :\", (1050+(10*n-200)))\n",
    "else:\n",
    "    print(\"Your electricity bill is :\", (2050+(20*(n-300))))"
   ]
  },
  {
   "cell_type": "markdown",
   "id": "b1816400-7ccc-44f0-b9ba-2bb96eaf85be",
   "metadata": {},
   "source": [
    "# Q4. Create a list of numbers from 1 to 100. Use for loop and while loop to calculate the cube of each number and if the cube of that number is divisible by 4 or 5 then append that number in a list and print that list."
   ]
  },
  {
   "cell_type": "code",
   "execution_count": 54,
   "id": "96a5f2f8-fefd-48fd-9abe-ca101e27f3c8",
   "metadata": {},
   "outputs": [
    {
     "data": {
      "text/plain": [
       "[8,\n",
       " 64,\n",
       " 125,\n",
       " 216,\n",
       " 512,\n",
       " 1000,\n",
       " 1728,\n",
       " 2744,\n",
       " 3375,\n",
       " 4096,\n",
       " 5832,\n",
       " 8000,\n",
       " 10648,\n",
       " 13824,\n",
       " 15625,\n",
       " 17576,\n",
       " 21952,\n",
       " 27000,\n",
       " 32768,\n",
       " 39304,\n",
       " 42875,\n",
       " 46656,\n",
       " 54872,\n",
       " 64000,\n",
       " 74088,\n",
       " 85184,\n",
       " 91125,\n",
       " 97336,\n",
       " 110592,\n",
       " 125000,\n",
       " 140608,\n",
       " 157464,\n",
       " 166375,\n",
       " 175616,\n",
       " 195112,\n",
       " 216000,\n",
       " 238328,\n",
       " 262144,\n",
       " 274625,\n",
       " 287496,\n",
       " 314432,\n",
       " 343000,\n",
       " 373248,\n",
       " 405224,\n",
       " 421875,\n",
       " 438976,\n",
       " 474552,\n",
       " 512000,\n",
       " 551368,\n",
       " 592704,\n",
       " 614125,\n",
       " 636056,\n",
       " 681472,\n",
       " 729000,\n",
       " 778688,\n",
       " 830584,\n",
       " 857375,\n",
       " 884736,\n",
       " 941192,\n",
       " 1000000]"
      ]
     },
     "execution_count": 54,
     "metadata": {},
     "output_type": "execute_result"
    }
   ],
   "source": [
    "l = []\n",
    "for i in range(1,101):\n",
    "    l.append(i)\n",
    "    \n",
    "def func():\n",
    "    lcube = []\n",
    "    for i in l:\n",
    "        lcube.append(i**3)\n",
    "\n",
    "    lby4or5 = []\n",
    "    for i in lcube:\n",
    "        if i%4 == 0 or i%5 == 0:\n",
    "            lby4or5.append(i)\n",
    "    return lby4or5\n",
    "func()"
   ]
  },
  {
   "cell_type": "markdown",
   "id": "10003c65-f47e-44f8-b29c-f9da7dea2362",
   "metadata": {},
   "source": [
    "# Q5. Write a program to filter count vowels in the below-given string. string = \"I want to become a data scientist\""
   ]
  },
  {
   "cell_type": "code",
   "execution_count": 64,
   "id": "59371e70-b29c-423d-80de-ad7e6dbf48cf",
   "metadata": {},
   "outputs": [
    {
     "data": {
      "text/plain": [
       "12"
      ]
     },
     "execution_count": 64,
     "metadata": {},
     "output_type": "execute_result"
    }
   ],
   "source": [
    "string = \"I want to become a data scientist\"\n",
    "vowels = ('a', 'e', 'i', 'o','u','A','E','I','O','U')\n",
    "l = []\n",
    "for i in range(len(string)):\n",
    "    if string[i] in vowels:\n",
    "        l.append(i)\n",
    "    \n",
    "len(l)"
   ]
  },
  {
   "cell_type": "code",
   "execution_count": 66,
   "id": "82e113d4-2087-4319-b45a-7eb722351c4b",
   "metadata": {},
   "outputs": [
    {
     "ename": "SyntaxError",
     "evalue": "invalid syntax (1116331861.py, line 1)",
     "output_type": "error",
     "traceback": [
      "\u001b[0;36m  Cell \u001b[0;32mIn[66], line 1\u001b[0;36m\u001b[0m\n\u001b[0;31m    list(filter(for i in range(len(string)): if string[i] in vowels: l.append(i), l))\u001b[0m\n\u001b[0m                ^\u001b[0m\n\u001b[0;31mSyntaxError\u001b[0m\u001b[0;31m:\u001b[0m invalid syntax\n"
     ]
    }
   ],
   "source": [
    "list(filter(for i in range(len(string)): if string[i] in vowels: l.append(i), l))\n",
    "len(l)"
   ]
  },
  {
   "cell_type": "code",
   "execution_count": null,
   "id": "65112b60-fa06-40ee-a837-38fb20e76631",
   "metadata": {},
   "outputs": [],
   "source": []
  }
 ],
 "metadata": {
  "kernelspec": {
   "display_name": "Python 3 (ipykernel)",
   "language": "python",
   "name": "python3"
  },
  "language_info": {
   "codemirror_mode": {
    "name": "ipython",
    "version": 3
   },
   "file_extension": ".py",
   "mimetype": "text/x-python",
   "name": "python",
   "nbconvert_exporter": "python",
   "pygments_lexer": "ipython3",
   "version": "3.10.8"
  }
 },
 "nbformat": 4,
 "nbformat_minor": 5
}
